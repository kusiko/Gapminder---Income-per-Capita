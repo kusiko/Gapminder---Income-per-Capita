{
 "cells": [
  {
   "cell_type": "markdown",
   "metadata": {},
   "source": [
    "## Gapminder: Analyzing Income per Capita for different Countries\n",
    "<b>Resource</b>: http://gapm.io/dgdppc\n",
    "<ul>Income per person (GDP/capita, PPP$ inflation-adjusted)\n",
    "<ul><i>Gross domestic product per person adjusted for differences in purchasing power (in international dollars, fixed 2011 prices, PPP based on 2011 ICP).</i>\n",
    "</ul></ul>\n",
    "<b>Questions posed:</b>\n",
    "<li> Which country's income per person grew the most throughout the years?\n",
    "<li> What is the minimum and maximum income per person as of 2019?\n",
    "<li> Which country has the highest mean income per person?\n",
    "<li> Why is that USA didn't make it to the top 5 countries based on income per capita? \n",
    "</ul></ul></ul>\n",
    "<b><p>&nbsp;</p>Investigation</b>:\n",
    "<dd>1. Import packages</dd>\n",
    "<dd>2. Clean Data dropping missing values and checing for duplicates</dd>\n",
    "<dd>3. Add a calculated column for Growth Rate</dd>\n",
    "<dd>4. Build visualizations</dd>\n",
    "<dd>5. Draw conclusions</dd>\n",
    "<b><p>&nbsp;</p>Table of Contents</b>\n",
    "<li><a href=\"#intro\">Introduction</a></li>\n",
    "<li><a href=\"#wrangling\">Data Wrangling</a></li>\n",
    "<li><a href=\"#eda\">Exploratory Data Analysis</a></li>\n",
    "<li><a href=\"#conclusions\">Conclusions</a></li>\n",
    "</ul> <b><p>&nbsp;</p>Materials used</b>:\n",
    "<li>Stackoverflow\n",
    "<li>Udacity"
   ]
  },
  {
   "cell_type": "markdown",
   "metadata": {},
   "source": [
    "***\n",
    "## Data Wrangling\n",
    "***\n",
    "<a id='wrangling'></a>"
   ]
  },
  {
   "cell_type": "markdown",
   "metadata": {},
   "source": [
    "<b>Import packages</b>"
   ]
  },
  {
   "cell_type": "code",
   "execution_count": 39,
   "metadata": {},
   "outputs": [],
   "source": [
    "import pandas as pd\n",
    "import numpy as np\n",
    "import matplotlib.pyplot as plt"
   ]
  },
  {
   "cell_type": "markdown",
   "metadata": {},
   "source": [
    "<b>Load .csv file and get general info:</b>"
   ]
  },
  {
   "cell_type": "code",
   "execution_count": 40,
   "metadata": {
    "scrolled": true
   },
   "outputs": [],
   "source": [
    "df = pd.read_csv('income_per_person_long_series.csv')"
   ]
  },
  {
   "cell_type": "code",
   "execution_count": 41,
   "metadata": {
    "scrolled": false
   },
   "outputs": [
    {
     "name": "stdout",
     "output_type": "stream",
     "text": [
      "<class 'pandas.core.frame.DataFrame'>\n",
      "RangeIndex: 193 entries, 0 to 192\n",
      "Columns: 1291 entries, country to 2019\n",
      "dtypes: float64(1096), int64(194), object(1)\n",
      "memory usage: 1.9+ MB\n"
     ]
    }
   ],
   "source": [
    "df.info()"
   ]
  },
  {
   "cell_type": "markdown",
   "metadata": {},
   "source": [
    "<b>Check head and tail of the loaded table:</b>"
   ]
  },
  {
   "cell_type": "code",
   "execution_count": 42,
   "metadata": {
    "scrolled": false
   },
   "outputs": [
    {
     "data": {
      "text/html": [
       "<div>\n",
       "<style scoped>\n",
       "    .dataframe tbody tr th:only-of-type {\n",
       "        vertical-align: middle;\n",
       "    }\n",
       "\n",
       "    .dataframe tbody tr th {\n",
       "        vertical-align: top;\n",
       "    }\n",
       "\n",
       "    .dataframe thead th {\n",
       "        text-align: right;\n",
       "    }\n",
       "</style>\n",
       "<table border=\"1\" class=\"dataframe\">\n",
       "  <thead>\n",
       "    <tr style=\"text-align: right;\">\n",
       "      <th></th>\n",
       "      <th>country</th>\n",
       "      <th>730</th>\n",
       "      <th>731</th>\n",
       "      <th>732</th>\n",
       "      <th>733</th>\n",
       "      <th>734</th>\n",
       "      <th>735</th>\n",
       "      <th>736</th>\n",
       "      <th>737</th>\n",
       "      <th>738</th>\n",
       "      <th>...</th>\n",
       "      <th>2010</th>\n",
       "      <th>2011</th>\n",
       "      <th>2012</th>\n",
       "      <th>2013</th>\n",
       "      <th>2014</th>\n",
       "      <th>2015</th>\n",
       "      <th>2016</th>\n",
       "      <th>2017</th>\n",
       "      <th>2018</th>\n",
       "      <th>2019</th>\n",
       "    </tr>\n",
       "  </thead>\n",
       "  <tbody>\n",
       "    <tr>\n",
       "      <th>0</th>\n",
       "      <td>Afghanistan</td>\n",
       "      <td>NaN</td>\n",
       "      <td>NaN</td>\n",
       "      <td>NaN</td>\n",
       "      <td>NaN</td>\n",
       "      <td>NaN</td>\n",
       "      <td>NaN</td>\n",
       "      <td>NaN</td>\n",
       "      <td>NaN</td>\n",
       "      <td>NaN</td>\n",
       "      <td>...</td>\n",
       "      <td>1630</td>\n",
       "      <td>1700</td>\n",
       "      <td>1890</td>\n",
       "      <td>1910</td>\n",
       "      <td>1920.0</td>\n",
       "      <td>1960.0</td>\n",
       "      <td>2020.0</td>\n",
       "      <td>2070.0</td>\n",
       "      <td>2130.0</td>\n",
       "      <td>2210.0</td>\n",
       "    </tr>\n",
       "    <tr>\n",
       "      <th>1</th>\n",
       "      <td>Albania</td>\n",
       "      <td>NaN</td>\n",
       "      <td>NaN</td>\n",
       "      <td>NaN</td>\n",
       "      <td>NaN</td>\n",
       "      <td>NaN</td>\n",
       "      <td>NaN</td>\n",
       "      <td>NaN</td>\n",
       "      <td>NaN</td>\n",
       "      <td>NaN</td>\n",
       "      <td>...</td>\n",
       "      <td>9660</td>\n",
       "      <td>9900</td>\n",
       "      <td>10100</td>\n",
       "      <td>10300</td>\n",
       "      <td>10600.0</td>\n",
       "      <td>11000.0</td>\n",
       "      <td>11500.0</td>\n",
       "      <td>12100.0</td>\n",
       "      <td>12700.0</td>\n",
       "      <td>13300.0</td>\n",
       "    </tr>\n",
       "    <tr>\n",
       "      <th>2</th>\n",
       "      <td>Algeria</td>\n",
       "      <td>NaN</td>\n",
       "      <td>NaN</td>\n",
       "      <td>NaN</td>\n",
       "      <td>NaN</td>\n",
       "      <td>NaN</td>\n",
       "      <td>NaN</td>\n",
       "      <td>NaN</td>\n",
       "      <td>NaN</td>\n",
       "      <td>NaN</td>\n",
       "      <td>...</td>\n",
       "      <td>12500</td>\n",
       "      <td>12600</td>\n",
       "      <td>12800</td>\n",
       "      <td>13000</td>\n",
       "      <td>13200.0</td>\n",
       "      <td>13500.0</td>\n",
       "      <td>13800.0</td>\n",
       "      <td>14200.0</td>\n",
       "      <td>14600.0</td>\n",
       "      <td>14900.0</td>\n",
       "    </tr>\n",
       "    <tr>\n",
       "      <th>3</th>\n",
       "      <td>Andorra</td>\n",
       "      <td>NaN</td>\n",
       "      <td>NaN</td>\n",
       "      <td>NaN</td>\n",
       "      <td>NaN</td>\n",
       "      <td>NaN</td>\n",
       "      <td>NaN</td>\n",
       "      <td>NaN</td>\n",
       "      <td>NaN</td>\n",
       "      <td>NaN</td>\n",
       "      <td>...</td>\n",
       "      <td>39000</td>\n",
       "      <td>42000</td>\n",
       "      <td>41900</td>\n",
       "      <td>43700</td>\n",
       "      <td>NaN</td>\n",
       "      <td>NaN</td>\n",
       "      <td>NaN</td>\n",
       "      <td>NaN</td>\n",
       "      <td>NaN</td>\n",
       "      <td>NaN</td>\n",
       "    </tr>\n",
       "    <tr>\n",
       "      <th>4</th>\n",
       "      <td>Angola</td>\n",
       "      <td>NaN</td>\n",
       "      <td>NaN</td>\n",
       "      <td>NaN</td>\n",
       "      <td>NaN</td>\n",
       "      <td>NaN</td>\n",
       "      <td>NaN</td>\n",
       "      <td>NaN</td>\n",
       "      <td>NaN</td>\n",
       "      <td>NaN</td>\n",
       "      <td>...</td>\n",
       "      <td>7020</td>\n",
       "      <td>7090</td>\n",
       "      <td>7250</td>\n",
       "      <td>7320</td>\n",
       "      <td>7480.0</td>\n",
       "      <td>7670.0</td>\n",
       "      <td>7880.0</td>\n",
       "      <td>7900.0</td>\n",
       "      <td>8170.0</td>\n",
       "      <td>8460.0</td>\n",
       "    </tr>\n",
       "  </tbody>\n",
       "</table>\n",
       "<p>5 rows × 1291 columns</p>\n",
       "</div>"
      ],
      "text/plain": [
       "       country  730  731  732  733  734  735  736  737  738  ...   2010  \\\n",
       "0  Afghanistan  NaN  NaN  NaN  NaN  NaN  NaN  NaN  NaN  NaN  ...   1630   \n",
       "1      Albania  NaN  NaN  NaN  NaN  NaN  NaN  NaN  NaN  NaN  ...   9660   \n",
       "2      Algeria  NaN  NaN  NaN  NaN  NaN  NaN  NaN  NaN  NaN  ...  12500   \n",
       "3      Andorra  NaN  NaN  NaN  NaN  NaN  NaN  NaN  NaN  NaN  ...  39000   \n",
       "4       Angola  NaN  NaN  NaN  NaN  NaN  NaN  NaN  NaN  NaN  ...   7020   \n",
       "\n",
       "    2011   2012   2013     2014     2015     2016     2017     2018     2019  \n",
       "0   1700   1890   1910   1920.0   1960.0   2020.0   2070.0   2130.0   2210.0  \n",
       "1   9900  10100  10300  10600.0  11000.0  11500.0  12100.0  12700.0  13300.0  \n",
       "2  12600  12800  13000  13200.0  13500.0  13800.0  14200.0  14600.0  14900.0  \n",
       "3  42000  41900  43700      NaN      NaN      NaN      NaN      NaN      NaN  \n",
       "4   7090   7250   7320   7480.0   7670.0   7880.0   7900.0   8170.0   8460.0  \n",
       "\n",
       "[5 rows x 1291 columns]"
      ]
     },
     "execution_count": 42,
     "metadata": {},
     "output_type": "execute_result"
    }
   ],
   "source": [
    "df.head(5)"
   ]
  },
  {
   "cell_type": "code",
   "execution_count": 43,
   "metadata": {
    "scrolled": true
   },
   "outputs": [
    {
     "data": {
      "text/html": [
       "<div>\n",
       "<style scoped>\n",
       "    .dataframe tbody tr th:only-of-type {\n",
       "        vertical-align: middle;\n",
       "    }\n",
       "\n",
       "    .dataframe tbody tr th {\n",
       "        vertical-align: top;\n",
       "    }\n",
       "\n",
       "    .dataframe thead th {\n",
       "        text-align: right;\n",
       "    }\n",
       "</style>\n",
       "<table border=\"1\" class=\"dataframe\">\n",
       "  <thead>\n",
       "    <tr style=\"text-align: right;\">\n",
       "      <th></th>\n",
       "      <th>country</th>\n",
       "      <th>730</th>\n",
       "      <th>731</th>\n",
       "      <th>732</th>\n",
       "      <th>733</th>\n",
       "      <th>734</th>\n",
       "      <th>735</th>\n",
       "      <th>736</th>\n",
       "      <th>737</th>\n",
       "      <th>738</th>\n",
       "      <th>...</th>\n",
       "      <th>2010</th>\n",
       "      <th>2011</th>\n",
       "      <th>2012</th>\n",
       "      <th>2013</th>\n",
       "      <th>2014</th>\n",
       "      <th>2015</th>\n",
       "      <th>2016</th>\n",
       "      <th>2017</th>\n",
       "      <th>2018</th>\n",
       "      <th>2019</th>\n",
       "    </tr>\n",
       "  </thead>\n",
       "  <tbody>\n",
       "    <tr>\n",
       "      <th>188</th>\n",
       "      <td>Venezuela</td>\n",
       "      <td>NaN</td>\n",
       "      <td>NaN</td>\n",
       "      <td>NaN</td>\n",
       "      <td>NaN</td>\n",
       "      <td>NaN</td>\n",
       "      <td>NaN</td>\n",
       "      <td>NaN</td>\n",
       "      <td>NaN</td>\n",
       "      <td>NaN</td>\n",
       "      <td>...</td>\n",
       "      <td>16500</td>\n",
       "      <td>17000</td>\n",
       "      <td>17600</td>\n",
       "      <td>17500</td>\n",
       "      <td>17200.0</td>\n",
       "      <td>16800.0</td>\n",
       "      <td>16700.0</td>\n",
       "      <td>16600.0</td>\n",
       "      <td>16500.0</td>\n",
       "      <td>16400.0</td>\n",
       "    </tr>\n",
       "    <tr>\n",
       "      <th>189</th>\n",
       "      <td>Vietnam</td>\n",
       "      <td>NaN</td>\n",
       "      <td>NaN</td>\n",
       "      <td>NaN</td>\n",
       "      <td>NaN</td>\n",
       "      <td>NaN</td>\n",
       "      <td>NaN</td>\n",
       "      <td>NaN</td>\n",
       "      <td>NaN</td>\n",
       "      <td>NaN</td>\n",
       "      <td>...</td>\n",
       "      <td>4510</td>\n",
       "      <td>4720</td>\n",
       "      <td>4910</td>\n",
       "      <td>5130</td>\n",
       "      <td>5360.0</td>\n",
       "      <td>5600.0</td>\n",
       "      <td>5870.0</td>\n",
       "      <td>6150.0</td>\n",
       "      <td>6450.0</td>\n",
       "      <td>6770.0</td>\n",
       "    </tr>\n",
       "    <tr>\n",
       "      <th>190</th>\n",
       "      <td>Yemen</td>\n",
       "      <td>NaN</td>\n",
       "      <td>NaN</td>\n",
       "      <td>NaN</td>\n",
       "      <td>NaN</td>\n",
       "      <td>NaN</td>\n",
       "      <td>NaN</td>\n",
       "      <td>NaN</td>\n",
       "      <td>NaN</td>\n",
       "      <td>NaN</td>\n",
       "      <td>...</td>\n",
       "      <td>4530</td>\n",
       "      <td>3760</td>\n",
       "      <td>3740</td>\n",
       "      <td>3790</td>\n",
       "      <td>3870.0</td>\n",
       "      <td>3920.0</td>\n",
       "      <td>3950.0</td>\n",
       "      <td>3990.0</td>\n",
       "      <td>4040.0</td>\n",
       "      <td>4120.0</td>\n",
       "    </tr>\n",
       "    <tr>\n",
       "      <th>191</th>\n",
       "      <td>Zambia</td>\n",
       "      <td>NaN</td>\n",
       "      <td>NaN</td>\n",
       "      <td>NaN</td>\n",
       "      <td>NaN</td>\n",
       "      <td>NaN</td>\n",
       "      <td>NaN</td>\n",
       "      <td>NaN</td>\n",
       "      <td>NaN</td>\n",
       "      <td>NaN</td>\n",
       "      <td>...</td>\n",
       "      <td>3440</td>\n",
       "      <td>3560</td>\n",
       "      <td>3700</td>\n",
       "      <td>3790</td>\n",
       "      <td>3940.0</td>\n",
       "      <td>4090.0</td>\n",
       "      <td>4220.0</td>\n",
       "      <td>4360.0</td>\n",
       "      <td>4480.0</td>\n",
       "      <td>4600.0</td>\n",
       "    </tr>\n",
       "    <tr>\n",
       "      <th>192</th>\n",
       "      <td>Zimbabwe</td>\n",
       "      <td>NaN</td>\n",
       "      <td>NaN</td>\n",
       "      <td>NaN</td>\n",
       "      <td>NaN</td>\n",
       "      <td>NaN</td>\n",
       "      <td>NaN</td>\n",
       "      <td>NaN</td>\n",
       "      <td>NaN</td>\n",
       "      <td>NaN</td>\n",
       "      <td>...</td>\n",
       "      <td>1500</td>\n",
       "      <td>1630</td>\n",
       "      <td>1750</td>\n",
       "      <td>1790</td>\n",
       "      <td>1840.0</td>\n",
       "      <td>1900.0</td>\n",
       "      <td>1970.0</td>\n",
       "      <td>2030.0</td>\n",
       "      <td>2090.0</td>\n",
       "      <td>2150.0</td>\n",
       "    </tr>\n",
       "  </tbody>\n",
       "</table>\n",
       "<p>5 rows × 1291 columns</p>\n",
       "</div>"
      ],
      "text/plain": [
       "       country  730  731  732  733  734  735  736  737  738  ...   2010  \\\n",
       "188  Venezuela  NaN  NaN  NaN  NaN  NaN  NaN  NaN  NaN  NaN  ...  16500   \n",
       "189    Vietnam  NaN  NaN  NaN  NaN  NaN  NaN  NaN  NaN  NaN  ...   4510   \n",
       "190      Yemen  NaN  NaN  NaN  NaN  NaN  NaN  NaN  NaN  NaN  ...   4530   \n",
       "191     Zambia  NaN  NaN  NaN  NaN  NaN  NaN  NaN  NaN  NaN  ...   3440   \n",
       "192   Zimbabwe  NaN  NaN  NaN  NaN  NaN  NaN  NaN  NaN  NaN  ...   1500   \n",
       "\n",
       "      2011   2012   2013     2014     2015     2016     2017     2018     2019  \n",
       "188  17000  17600  17500  17200.0  16800.0  16700.0  16600.0  16500.0  16400.0  \n",
       "189   4720   4910   5130   5360.0   5600.0   5870.0   6150.0   6450.0   6770.0  \n",
       "190   3760   3740   3790   3870.0   3920.0   3950.0   3990.0   4040.0   4120.0  \n",
       "191   3560   3700   3790   3940.0   4090.0   4220.0   4360.0   4480.0   4600.0  \n",
       "192   1630   1750   1790   1840.0   1900.0   1970.0   2030.0   2090.0   2150.0  \n",
       "\n",
       "[5 rows x 1291 columns]"
      ]
     },
     "execution_count": 43,
     "metadata": {},
     "output_type": "execute_result"
    }
   ],
   "source": [
    "df.tail()"
   ]
  },
  {
   "cell_type": "markdown",
   "metadata": {},
   "source": [
    "<b>How many <u>null values</u> do we have?</b>"
   ]
  },
  {
   "cell_type": "code",
   "execution_count": 44,
   "metadata": {
    "scrolled": true
   },
   "outputs": [
    {
     "data": {
      "text/plain": [
       "200717"
      ]
     },
     "execution_count": 44,
     "metadata": {},
     "output_type": "execute_result"
    }
   ],
   "source": [
    "df.isnull().sum().sum()"
   ]
  },
  {
   "cell_type": "markdown",
   "metadata": {},
   "source": [
    "<b>What is the % of null values of the overall value count?</b>"
   ]
  },
  {
   "cell_type": "code",
   "execution_count": 45,
   "metadata": {},
   "outputs": [
    {
     "data": {
      "text/plain": [
       "'80.6%'"
      ]
     },
     "execution_count": 45,
     "metadata": {},
     "output_type": "execute_result"
    }
   ],
   "source": [
    "str(round((200717/(193*1291))*100,1)) + '%'"
   ]
  },
  {
   "cell_type": "markdown",
   "metadata": {},
   "source": [
    "<b>How many non-null values do we have?</b>"
   ]
  },
  {
   "cell_type": "code",
   "execution_count": 46,
   "metadata": {
    "scrolled": true
   },
   "outputs": [
    {
     "data": {
      "text/plain": [
       "48446"
      ]
     },
     "execution_count": 46,
     "metadata": {},
     "output_type": "execute_result"
    }
   ],
   "source": [
    "df.notnull().sum().sum()"
   ]
  },
  {
   "cell_type": "markdown",
   "metadata": {},
   "source": [
    "<b>What is the % of non-null values of the overall value count?</b> (to double check our null total)"
   ]
  },
  {
   "cell_type": "code",
   "execution_count": 47,
   "metadata": {
    "scrolled": true
   },
   "outputs": [
    {
     "data": {
      "text/plain": [
       "'19.4%'"
      ]
     },
     "execution_count": 47,
     "metadata": {},
     "output_type": "execute_result"
    }
   ],
   "source": [
    "str(round((48446/(193*1291))*100,1)) + '%'"
   ]
  },
  {
   "cell_type": "markdown",
   "metadata": {},
   "source": [
    "<b>How many columns have at least one missing value?</b> "
   ]
  },
  {
   "cell_type": "code",
   "execution_count": 48,
   "metadata": {
    "scrolled": true
   },
   "outputs": [
    {
     "data": {
      "text/plain": [
       "1096"
      ]
     },
     "execution_count": 48,
     "metadata": {},
     "output_type": "execute_result"
    }
   ],
   "source": [
    "sum(df.apply(lambda x: sum(x.isnull().values), axis = 0)>0)"
   ]
  },
  {
   "cell_type": "markdown",
   "metadata": {},
   "source": [
    "<b>How many <u>duplicates</u> do we have?</b> "
   ]
  },
  {
   "cell_type": "code",
   "execution_count": 49,
   "metadata": {},
   "outputs": [
    {
     "data": {
      "text/plain": [
       "0"
      ]
     },
     "execution_count": 49,
     "metadata": {},
     "output_type": "execute_result"
    }
   ],
   "source": [
    "sum(df.duplicated())"
   ]
  },
  {
   "cell_type": "markdown",
   "metadata": {},
   "source": [
    "<b>Drop columns with a minimum of 150 null values and save the result in a new table:</b> "
   ]
  },
  {
   "cell_type": "code",
   "execution_count": 50,
   "metadata": {
    "scrolled": true
   },
   "outputs": [
    {
     "name": "stdout",
     "output_type": "stream",
     "text": [
      "<class 'pandas.core.frame.DataFrame'>\n",
      "RangeIndex: 193 entries, 0 to 192\n",
      "Columns: 221 entries, country to 2019\n",
      "dtypes: float64(26), int64(194), object(1)\n",
      "memory usage: 333.4+ KB\n"
     ]
    }
   ],
   "source": [
    "dfcopy=df.dropna(axis = 1, thresh=150)\n",
    "dfcopy.info()"
   ]
  },
  {
   "cell_type": "markdown",
   "metadata": {},
   "source": [
    "<b>Looks like over a thousand columns were dropped, from year 730 to 1800, which makes sense.</b> "
   ]
  },
  {
   "cell_type": "code",
   "execution_count": 51,
   "metadata": {
    "scrolled": true
   },
   "outputs": [
    {
     "data": {
      "text/html": [
       "<div>\n",
       "<style scoped>\n",
       "    .dataframe tbody tr th:only-of-type {\n",
       "        vertical-align: middle;\n",
       "    }\n",
       "\n",
       "    .dataframe tbody tr th {\n",
       "        vertical-align: top;\n",
       "    }\n",
       "\n",
       "    .dataframe thead th {\n",
       "        text-align: right;\n",
       "    }\n",
       "</style>\n",
       "<table border=\"1\" class=\"dataframe\">\n",
       "  <thead>\n",
       "    <tr style=\"text-align: right;\">\n",
       "      <th></th>\n",
       "      <th>country</th>\n",
       "      <th>1800</th>\n",
       "      <th>1801</th>\n",
       "      <th>1802</th>\n",
       "      <th>1803</th>\n",
       "      <th>1804</th>\n",
       "      <th>1805</th>\n",
       "      <th>1806</th>\n",
       "      <th>1807</th>\n",
       "      <th>1808</th>\n",
       "      <th>...</th>\n",
       "      <th>2010</th>\n",
       "      <th>2011</th>\n",
       "      <th>2012</th>\n",
       "      <th>2013</th>\n",
       "      <th>2014</th>\n",
       "      <th>2015</th>\n",
       "      <th>2016</th>\n",
       "      <th>2017</th>\n",
       "      <th>2018</th>\n",
       "      <th>2019</th>\n",
       "    </tr>\n",
       "  </thead>\n",
       "  <tbody>\n",
       "    <tr>\n",
       "      <th>0</th>\n",
       "      <td>Afghanistan</td>\n",
       "      <td>634.0</td>\n",
       "      <td>634.0</td>\n",
       "      <td>634.0</td>\n",
       "      <td>634.0</td>\n",
       "      <td>634.0</td>\n",
       "      <td>634.0</td>\n",
       "      <td>634.0</td>\n",
       "      <td>634.0</td>\n",
       "      <td>634.0</td>\n",
       "      <td>...</td>\n",
       "      <td>1630</td>\n",
       "      <td>1700</td>\n",
       "      <td>1890</td>\n",
       "      <td>1910</td>\n",
       "      <td>1920.0</td>\n",
       "      <td>1960.0</td>\n",
       "      <td>2020.0</td>\n",
       "      <td>2070.0</td>\n",
       "      <td>2130.0</td>\n",
       "      <td>2210.0</td>\n",
       "    </tr>\n",
       "    <tr>\n",
       "      <th>1</th>\n",
       "      <td>Albania</td>\n",
       "      <td>NaN</td>\n",
       "      <td>NaN</td>\n",
       "      <td>NaN</td>\n",
       "      <td>NaN</td>\n",
       "      <td>NaN</td>\n",
       "      <td>NaN</td>\n",
       "      <td>NaN</td>\n",
       "      <td>NaN</td>\n",
       "      <td>NaN</td>\n",
       "      <td>...</td>\n",
       "      <td>9660</td>\n",
       "      <td>9900</td>\n",
       "      <td>10100</td>\n",
       "      <td>10300</td>\n",
       "      <td>10600.0</td>\n",
       "      <td>11000.0</td>\n",
       "      <td>11500.0</td>\n",
       "      <td>12100.0</td>\n",
       "      <td>12700.0</td>\n",
       "      <td>13300.0</td>\n",
       "    </tr>\n",
       "    <tr>\n",
       "      <th>2</th>\n",
       "      <td>Algeria</td>\n",
       "      <td>1360.0</td>\n",
       "      <td>1360.0</td>\n",
       "      <td>1360.0</td>\n",
       "      <td>1370.0</td>\n",
       "      <td>1370.0</td>\n",
       "      <td>1370.0</td>\n",
       "      <td>1370.0</td>\n",
       "      <td>1370.0</td>\n",
       "      <td>1370.0</td>\n",
       "      <td>...</td>\n",
       "      <td>12500</td>\n",
       "      <td>12600</td>\n",
       "      <td>12800</td>\n",
       "      <td>13000</td>\n",
       "      <td>13200.0</td>\n",
       "      <td>13500.0</td>\n",
       "      <td>13800.0</td>\n",
       "      <td>14200.0</td>\n",
       "      <td>14600.0</td>\n",
       "      <td>14900.0</td>\n",
       "    </tr>\n",
       "    <tr>\n",
       "      <th>3</th>\n",
       "      <td>Andorra</td>\n",
       "      <td>1260.0</td>\n",
       "      <td>1260.0</td>\n",
       "      <td>1260.0</td>\n",
       "      <td>1270.0</td>\n",
       "      <td>1270.0</td>\n",
       "      <td>1270.0</td>\n",
       "      <td>1270.0</td>\n",
       "      <td>1280.0</td>\n",
       "      <td>1280.0</td>\n",
       "      <td>...</td>\n",
       "      <td>39000</td>\n",
       "      <td>42000</td>\n",
       "      <td>41900</td>\n",
       "      <td>43700</td>\n",
       "      <td>NaN</td>\n",
       "      <td>NaN</td>\n",
       "      <td>NaN</td>\n",
       "      <td>NaN</td>\n",
       "      <td>NaN</td>\n",
       "      <td>NaN</td>\n",
       "    </tr>\n",
       "    <tr>\n",
       "      <th>4</th>\n",
       "      <td>Angola</td>\n",
       "      <td>650.0</td>\n",
       "      <td>653.0</td>\n",
       "      <td>656.0</td>\n",
       "      <td>658.0</td>\n",
       "      <td>661.0</td>\n",
       "      <td>664.0</td>\n",
       "      <td>667.0</td>\n",
       "      <td>670.0</td>\n",
       "      <td>672.0</td>\n",
       "      <td>...</td>\n",
       "      <td>7020</td>\n",
       "      <td>7090</td>\n",
       "      <td>7250</td>\n",
       "      <td>7320</td>\n",
       "      <td>7480.0</td>\n",
       "      <td>7670.0</td>\n",
       "      <td>7880.0</td>\n",
       "      <td>7900.0</td>\n",
       "      <td>8170.0</td>\n",
       "      <td>8460.0</td>\n",
       "    </tr>\n",
       "  </tbody>\n",
       "</table>\n",
       "<p>5 rows × 221 columns</p>\n",
       "</div>"
      ],
      "text/plain": [
       "       country    1800    1801    1802    1803    1804    1805    1806  \\\n",
       "0  Afghanistan   634.0   634.0   634.0   634.0   634.0   634.0   634.0   \n",
       "1      Albania     NaN     NaN     NaN     NaN     NaN     NaN     NaN   \n",
       "2      Algeria  1360.0  1360.0  1360.0  1370.0  1370.0  1370.0  1370.0   \n",
       "3      Andorra  1260.0  1260.0  1260.0  1270.0  1270.0  1270.0  1270.0   \n",
       "4       Angola   650.0   653.0   656.0   658.0   661.0   664.0   667.0   \n",
       "\n",
       "     1807    1808  ...   2010   2011   2012   2013     2014     2015     2016  \\\n",
       "0   634.0   634.0  ...   1630   1700   1890   1910   1920.0   1960.0   2020.0   \n",
       "1     NaN     NaN  ...   9660   9900  10100  10300  10600.0  11000.0  11500.0   \n",
       "2  1370.0  1370.0  ...  12500  12600  12800  13000  13200.0  13500.0  13800.0   \n",
       "3  1280.0  1280.0  ...  39000  42000  41900  43700      NaN      NaN      NaN   \n",
       "4   670.0   672.0  ...   7020   7090   7250   7320   7480.0   7670.0   7880.0   \n",
       "\n",
       "      2017     2018     2019  \n",
       "0   2070.0   2130.0   2210.0  \n",
       "1  12100.0  12700.0  13300.0  \n",
       "2  14200.0  14600.0  14900.0  \n",
       "3      NaN      NaN      NaN  \n",
       "4   7900.0   8170.0   8460.0  \n",
       "\n",
       "[5 rows x 221 columns]"
      ]
     },
     "execution_count": 51,
     "metadata": {},
     "output_type": "execute_result"
    }
   ],
   "source": [
    "dfcopy.head()"
   ]
  },
  {
   "cell_type": "code",
   "execution_count": 52,
   "metadata": {
    "scrolled": true
   },
   "outputs": [
    {
     "data": {
      "text/html": [
       "<div>\n",
       "<style scoped>\n",
       "    .dataframe tbody tr th:only-of-type {\n",
       "        vertical-align: middle;\n",
       "    }\n",
       "\n",
       "    .dataframe tbody tr th {\n",
       "        vertical-align: top;\n",
       "    }\n",
       "\n",
       "    .dataframe thead th {\n",
       "        text-align: right;\n",
       "    }\n",
       "</style>\n",
       "<table border=\"1\" class=\"dataframe\">\n",
       "  <thead>\n",
       "    <tr style=\"text-align: right;\">\n",
       "      <th></th>\n",
       "      <th>country</th>\n",
       "      <th>1800</th>\n",
       "      <th>1801</th>\n",
       "      <th>1802</th>\n",
       "      <th>1803</th>\n",
       "      <th>1804</th>\n",
       "      <th>1805</th>\n",
       "      <th>1806</th>\n",
       "      <th>1807</th>\n",
       "      <th>1808</th>\n",
       "      <th>...</th>\n",
       "      <th>2010</th>\n",
       "      <th>2011</th>\n",
       "      <th>2012</th>\n",
       "      <th>2013</th>\n",
       "      <th>2014</th>\n",
       "      <th>2015</th>\n",
       "      <th>2016</th>\n",
       "      <th>2017</th>\n",
       "      <th>2018</th>\n",
       "      <th>2019</th>\n",
       "    </tr>\n",
       "  </thead>\n",
       "  <tbody>\n",
       "    <tr>\n",
       "      <th>188</th>\n",
       "      <td>Venezuela</td>\n",
       "      <td>667.0</td>\n",
       "      <td>667.0</td>\n",
       "      <td>667.0</td>\n",
       "      <td>667.0</td>\n",
       "      <td>667.0</td>\n",
       "      <td>667.0</td>\n",
       "      <td>667.0</td>\n",
       "      <td>667.0</td>\n",
       "      <td>667.0</td>\n",
       "      <td>...</td>\n",
       "      <td>16500</td>\n",
       "      <td>17000</td>\n",
       "      <td>17600</td>\n",
       "      <td>17500</td>\n",
       "      <td>17200.0</td>\n",
       "      <td>16800.0</td>\n",
       "      <td>16700.0</td>\n",
       "      <td>16600.0</td>\n",
       "      <td>16500.0</td>\n",
       "      <td>16400.0</td>\n",
       "    </tr>\n",
       "    <tr>\n",
       "      <th>189</th>\n",
       "      <td>Vietnam</td>\n",
       "      <td>732.0</td>\n",
       "      <td>732.0</td>\n",
       "      <td>732.0</td>\n",
       "      <td>732.0</td>\n",
       "      <td>732.0</td>\n",
       "      <td>732.0</td>\n",
       "      <td>732.0</td>\n",
       "      <td>732.0</td>\n",
       "      <td>732.0</td>\n",
       "      <td>...</td>\n",
       "      <td>4510</td>\n",
       "      <td>4720</td>\n",
       "      <td>4910</td>\n",
       "      <td>5130</td>\n",
       "      <td>5360.0</td>\n",
       "      <td>5600.0</td>\n",
       "      <td>5870.0</td>\n",
       "      <td>6150.0</td>\n",
       "      <td>6450.0</td>\n",
       "      <td>6770.0</td>\n",
       "    </tr>\n",
       "    <tr>\n",
       "      <th>190</th>\n",
       "      <td>Yemen</td>\n",
       "      <td>923.0</td>\n",
       "      <td>926.0</td>\n",
       "      <td>928.0</td>\n",
       "      <td>931.0</td>\n",
       "      <td>933.0</td>\n",
       "      <td>936.0</td>\n",
       "      <td>938.0</td>\n",
       "      <td>941.0</td>\n",
       "      <td>943.0</td>\n",
       "      <td>...</td>\n",
       "      <td>4530</td>\n",
       "      <td>3760</td>\n",
       "      <td>3740</td>\n",
       "      <td>3790</td>\n",
       "      <td>3870.0</td>\n",
       "      <td>3920.0</td>\n",
       "      <td>3950.0</td>\n",
       "      <td>3990.0</td>\n",
       "      <td>4040.0</td>\n",
       "      <td>4120.0</td>\n",
       "    </tr>\n",
       "    <tr>\n",
       "      <th>191</th>\n",
       "      <td>Zambia</td>\n",
       "      <td>698.0</td>\n",
       "      <td>700.0</td>\n",
       "      <td>701.0</td>\n",
       "      <td>703.0</td>\n",
       "      <td>705.0</td>\n",
       "      <td>706.0</td>\n",
       "      <td>708.0</td>\n",
       "      <td>709.0</td>\n",
       "      <td>711.0</td>\n",
       "      <td>...</td>\n",
       "      <td>3440</td>\n",
       "      <td>3560</td>\n",
       "      <td>3700</td>\n",
       "      <td>3790</td>\n",
       "      <td>3940.0</td>\n",
       "      <td>4090.0</td>\n",
       "      <td>4220.0</td>\n",
       "      <td>4360.0</td>\n",
       "      <td>4480.0</td>\n",
       "      <td>4600.0</td>\n",
       "    </tr>\n",
       "    <tr>\n",
       "      <th>192</th>\n",
       "      <td>Zimbabwe</td>\n",
       "      <td>915.0</td>\n",
       "      <td>916.0</td>\n",
       "      <td>917.0</td>\n",
       "      <td>917.0</td>\n",
       "      <td>918.0</td>\n",
       "      <td>919.0</td>\n",
       "      <td>920.0</td>\n",
       "      <td>921.0</td>\n",
       "      <td>922.0</td>\n",
       "      <td>...</td>\n",
       "      <td>1500</td>\n",
       "      <td>1630</td>\n",
       "      <td>1750</td>\n",
       "      <td>1790</td>\n",
       "      <td>1840.0</td>\n",
       "      <td>1900.0</td>\n",
       "      <td>1970.0</td>\n",
       "      <td>2030.0</td>\n",
       "      <td>2090.0</td>\n",
       "      <td>2150.0</td>\n",
       "    </tr>\n",
       "  </tbody>\n",
       "</table>\n",
       "<p>5 rows × 221 columns</p>\n",
       "</div>"
      ],
      "text/plain": [
       "       country   1800   1801   1802   1803   1804   1805   1806   1807   1808  \\\n",
       "188  Venezuela  667.0  667.0  667.0  667.0  667.0  667.0  667.0  667.0  667.0   \n",
       "189    Vietnam  732.0  732.0  732.0  732.0  732.0  732.0  732.0  732.0  732.0   \n",
       "190      Yemen  923.0  926.0  928.0  931.0  933.0  936.0  938.0  941.0  943.0   \n",
       "191     Zambia  698.0  700.0  701.0  703.0  705.0  706.0  708.0  709.0  711.0   \n",
       "192   Zimbabwe  915.0  916.0  917.0  917.0  918.0  919.0  920.0  921.0  922.0   \n",
       "\n",
       "     ...   2010   2011   2012   2013     2014     2015     2016     2017  \\\n",
       "188  ...  16500  17000  17600  17500  17200.0  16800.0  16700.0  16600.0   \n",
       "189  ...   4510   4720   4910   5130   5360.0   5600.0   5870.0   6150.0   \n",
       "190  ...   4530   3760   3740   3790   3870.0   3920.0   3950.0   3990.0   \n",
       "191  ...   3440   3560   3700   3790   3940.0   4090.0   4220.0   4360.0   \n",
       "192  ...   1500   1630   1750   1790   1840.0   1900.0   1970.0   2030.0   \n",
       "\n",
       "        2018     2019  \n",
       "188  16500.0  16400.0  \n",
       "189   6450.0   6770.0  \n",
       "190   4040.0   4120.0  \n",
       "191   4480.0   4600.0  \n",
       "192   2090.0   2150.0  \n",
       "\n",
       "[5 rows x 221 columns]"
      ]
     },
     "execution_count": 52,
     "metadata": {},
     "output_type": "execute_result"
    }
   ],
   "source": [
    "dfcopy.tail()"
   ]
  },
  {
   "cell_type": "markdown",
   "metadata": {},
   "source": [
    "<b>Let's make sure we have the right sequence of the remaining columns and check for any potential gaps in years:</b> "
   ]
  },
  {
   "cell_type": "code",
   "execution_count": 53,
   "metadata": {
    "scrolled": true
   },
   "outputs": [
    {
     "data": {
      "text/plain": [
       "220"
      ]
     },
     "execution_count": 53,
     "metadata": {},
     "output_type": "execute_result"
    }
   ],
   "source": [
    "dfcopy.loc[0,'1800':'2019'].count() #220 means there are no missing years btw 1800 and 2019"
   ]
  },
  {
   "cell_type": "markdown",
   "metadata": {},
   "source": [
    "<b>Now that we know no years are missing between 1800 and 2019, let's check how many columns and rows still have at least one missing value:</b> "
   ]
  },
  {
   "cell_type": "code",
   "execution_count": 54,
   "metadata": {
    "scrolled": true
   },
   "outputs": [
    {
     "data": {
      "text/plain": [
       "26"
      ]
     },
     "execution_count": 54,
     "metadata": {},
     "output_type": "execute_result"
    }
   ],
   "source": [
    "sum(dfcopy.apply(lambda x: sum(x.isnull().values), axis = 0)>0) #number of columns with at least one missing value"
   ]
  },
  {
   "cell_type": "code",
   "execution_count": 55,
   "metadata": {},
   "outputs": [
    {
     "data": {
      "text/plain": [
       "41"
      ]
     },
     "execution_count": 55,
     "metadata": {},
     "output_type": "execute_result"
    }
   ],
   "source": [
    "sum(dfcopy.apply(lambda x: sum(x.isnull().values), axis = 1)>0) #number of rows with at least one missing value"
   ]
  },
  {
   "cell_type": "markdown",
   "metadata": {},
   "source": [
    "<b>Let's get rid of the remaining NaN values and save it as a new DF, which will result in # of Countries being reduced from 193 to 152:</b> "
   ]
  },
  {
   "cell_type": "code",
   "execution_count": 58,
   "metadata": {},
   "outputs": [
    {
     "name": "stdout",
     "output_type": "stream",
     "text": [
      "<class 'pandas.core.frame.DataFrame'>\n",
      "RangeIndex: 152 entries, 0 to 151\n",
      "Columns: 221 entries, country to 2019\n",
      "dtypes: float64(26), int64(194), object(1)\n",
      "memory usage: 262.6+ KB\n"
     ]
    },
    {
     "data": {
      "text/html": [
       "<div>\n",
       "<style scoped>\n",
       "    .dataframe tbody tr th:only-of-type {\n",
       "        vertical-align: middle;\n",
       "    }\n",
       "\n",
       "    .dataframe tbody tr th {\n",
       "        vertical-align: top;\n",
       "    }\n",
       "\n",
       "    .dataframe thead th {\n",
       "        text-align: right;\n",
       "    }\n",
       "</style>\n",
       "<table border=\"1\" class=\"dataframe\">\n",
       "  <thead>\n",
       "    <tr style=\"text-align: right;\">\n",
       "      <th></th>\n",
       "      <th>country</th>\n",
       "      <th>1800</th>\n",
       "      <th>1801</th>\n",
       "      <th>1802</th>\n",
       "      <th>1803</th>\n",
       "      <th>1804</th>\n",
       "      <th>1805</th>\n",
       "      <th>1806</th>\n",
       "      <th>1807</th>\n",
       "      <th>1808</th>\n",
       "      <th>...</th>\n",
       "      <th>2010</th>\n",
       "      <th>2011</th>\n",
       "      <th>2012</th>\n",
       "      <th>2013</th>\n",
       "      <th>2014</th>\n",
       "      <th>2015</th>\n",
       "      <th>2016</th>\n",
       "      <th>2017</th>\n",
       "      <th>2018</th>\n",
       "      <th>2019</th>\n",
       "    </tr>\n",
       "  </thead>\n",
       "  <tbody>\n",
       "    <tr>\n",
       "      <th>147</th>\n",
       "      <td>Venezuela</td>\n",
       "      <td>667.0</td>\n",
       "      <td>667.0</td>\n",
       "      <td>667.0</td>\n",
       "      <td>667.0</td>\n",
       "      <td>667.0</td>\n",
       "      <td>667.0</td>\n",
       "      <td>667.0</td>\n",
       "      <td>667.0</td>\n",
       "      <td>667.0</td>\n",
       "      <td>...</td>\n",
       "      <td>16500</td>\n",
       "      <td>17000</td>\n",
       "      <td>17600</td>\n",
       "      <td>17500</td>\n",
       "      <td>17200.0</td>\n",
       "      <td>16800.0</td>\n",
       "      <td>16700.0</td>\n",
       "      <td>16600.0</td>\n",
       "      <td>16500.0</td>\n",
       "      <td>16400.0</td>\n",
       "    </tr>\n",
       "    <tr>\n",
       "      <th>148</th>\n",
       "      <td>Vietnam</td>\n",
       "      <td>732.0</td>\n",
       "      <td>732.0</td>\n",
       "      <td>732.0</td>\n",
       "      <td>732.0</td>\n",
       "      <td>732.0</td>\n",
       "      <td>732.0</td>\n",
       "      <td>732.0</td>\n",
       "      <td>732.0</td>\n",
       "      <td>732.0</td>\n",
       "      <td>...</td>\n",
       "      <td>4510</td>\n",
       "      <td>4720</td>\n",
       "      <td>4910</td>\n",
       "      <td>5130</td>\n",
       "      <td>5360.0</td>\n",
       "      <td>5600.0</td>\n",
       "      <td>5870.0</td>\n",
       "      <td>6150.0</td>\n",
       "      <td>6450.0</td>\n",
       "      <td>6770.0</td>\n",
       "    </tr>\n",
       "    <tr>\n",
       "      <th>149</th>\n",
       "      <td>Yemen</td>\n",
       "      <td>923.0</td>\n",
       "      <td>926.0</td>\n",
       "      <td>928.0</td>\n",
       "      <td>931.0</td>\n",
       "      <td>933.0</td>\n",
       "      <td>936.0</td>\n",
       "      <td>938.0</td>\n",
       "      <td>941.0</td>\n",
       "      <td>943.0</td>\n",
       "      <td>...</td>\n",
       "      <td>4530</td>\n",
       "      <td>3760</td>\n",
       "      <td>3740</td>\n",
       "      <td>3790</td>\n",
       "      <td>3870.0</td>\n",
       "      <td>3920.0</td>\n",
       "      <td>3950.0</td>\n",
       "      <td>3990.0</td>\n",
       "      <td>4040.0</td>\n",
       "      <td>4120.0</td>\n",
       "    </tr>\n",
       "    <tr>\n",
       "      <th>150</th>\n",
       "      <td>Zambia</td>\n",
       "      <td>698.0</td>\n",
       "      <td>700.0</td>\n",
       "      <td>701.0</td>\n",
       "      <td>703.0</td>\n",
       "      <td>705.0</td>\n",
       "      <td>706.0</td>\n",
       "      <td>708.0</td>\n",
       "      <td>709.0</td>\n",
       "      <td>711.0</td>\n",
       "      <td>...</td>\n",
       "      <td>3440</td>\n",
       "      <td>3560</td>\n",
       "      <td>3700</td>\n",
       "      <td>3790</td>\n",
       "      <td>3940.0</td>\n",
       "      <td>4090.0</td>\n",
       "      <td>4220.0</td>\n",
       "      <td>4360.0</td>\n",
       "      <td>4480.0</td>\n",
       "      <td>4600.0</td>\n",
       "    </tr>\n",
       "    <tr>\n",
       "      <th>151</th>\n",
       "      <td>Zimbabwe</td>\n",
       "      <td>915.0</td>\n",
       "      <td>916.0</td>\n",
       "      <td>917.0</td>\n",
       "      <td>917.0</td>\n",
       "      <td>918.0</td>\n",
       "      <td>919.0</td>\n",
       "      <td>920.0</td>\n",
       "      <td>921.0</td>\n",
       "      <td>922.0</td>\n",
       "      <td>...</td>\n",
       "      <td>1500</td>\n",
       "      <td>1630</td>\n",
       "      <td>1750</td>\n",
       "      <td>1790</td>\n",
       "      <td>1840.0</td>\n",
       "      <td>1900.0</td>\n",
       "      <td>1970.0</td>\n",
       "      <td>2030.0</td>\n",
       "      <td>2090.0</td>\n",
       "      <td>2150.0</td>\n",
       "    </tr>\n",
       "  </tbody>\n",
       "</table>\n",
       "<p>5 rows × 221 columns</p>\n",
       "</div>"
      ],
      "text/plain": [
       "       country   1800   1801   1802   1803   1804   1805   1806   1807   1808  \\\n",
       "147  Venezuela  667.0  667.0  667.0  667.0  667.0  667.0  667.0  667.0  667.0   \n",
       "148    Vietnam  732.0  732.0  732.0  732.0  732.0  732.0  732.0  732.0  732.0   \n",
       "149      Yemen  923.0  926.0  928.0  931.0  933.0  936.0  938.0  941.0  943.0   \n",
       "150     Zambia  698.0  700.0  701.0  703.0  705.0  706.0  708.0  709.0  711.0   \n",
       "151   Zimbabwe  915.0  916.0  917.0  917.0  918.0  919.0  920.0  921.0  922.0   \n",
       "\n",
       "     ...   2010   2011   2012   2013     2014     2015     2016     2017  \\\n",
       "147  ...  16500  17000  17600  17500  17200.0  16800.0  16700.0  16600.0   \n",
       "148  ...   4510   4720   4910   5130   5360.0   5600.0   5870.0   6150.0   \n",
       "149  ...   4530   3760   3740   3790   3870.0   3920.0   3950.0   3990.0   \n",
       "150  ...   3440   3560   3700   3790   3940.0   4090.0   4220.0   4360.0   \n",
       "151  ...   1500   1630   1750   1790   1840.0   1900.0   1970.0   2030.0   \n",
       "\n",
       "        2018     2019  \n",
       "147  16500.0  16400.0  \n",
       "148   6450.0   6770.0  \n",
       "149   4040.0   4120.0  \n",
       "150   4480.0   4600.0  \n",
       "151   2090.0   2150.0  \n",
       "\n",
       "[5 rows x 221 columns]"
      ]
     },
     "execution_count": 58,
     "metadata": {},
     "output_type": "execute_result"
    }
   ],
   "source": [
    "df_clean=dfcopy.dropna(axis = 0)\n",
    "df_clean.reset_index(drop=True, inplace=True)\n",
    "df_clean.info()\n",
    "df_clean.tail()"
   ]
  },
  {
   "cell_type": "markdown",
   "metadata": {},
   "source": [
    "<a id='eda'></a>\n",
    "***\n",
    "## Exploratory Data Analysis\n",
    "***"
   ]
  },
  {
   "cell_type": "markdown",
   "metadata": {},
   "source": [
    "-<b>Now that we have trimmed and cleaned our data, we can move on to exploration</b>-"
   ]
  },
  {
   "cell_type": "markdown",
   "metadata": {},
   "source": [
    "### 1. Which country's income per person grew the most throughout the years?"
   ]
  },
  {
   "cell_type": "markdown",
   "metadata": {},
   "source": [
    "<b>First, let's determine % of growth per country from 1800 to 2019, and save the result in a new column:</b>"
   ]
  },
  {
   "cell_type": "code",
   "execution_count": 59,
   "metadata": {
    "scrolled": true
   },
   "outputs": [
    {
     "name": "stderr",
     "output_type": "stream",
     "text": [
      "<ipython-input-59-43b1128ad14d>:1: SettingWithCopyWarning: \n",
      "A value is trying to be set on a copy of a slice from a DataFrame.\n",
      "Try using .loc[row_indexer,col_indexer] = value instead\n",
      "\n",
      "See the caveats in the documentation: https://pandas.pydata.org/pandas-docs/stable/user_guide/indexing.html#returning-a-view-versus-a-copy\n",
      "  df_clean['growth_rate'] = (((df_clean['2019'] - df_clean['1800'])/df_clean['1800']).round(1))\n"
     ]
    },
    {
     "data": {
      "text/html": [
       "<div>\n",
       "<style scoped>\n",
       "    .dataframe tbody tr th:only-of-type {\n",
       "        vertical-align: middle;\n",
       "    }\n",
       "\n",
       "    .dataframe tbody tr th {\n",
       "        vertical-align: top;\n",
       "    }\n",
       "\n",
       "    .dataframe thead th {\n",
       "        text-align: right;\n",
       "    }\n",
       "</style>\n",
       "<table border=\"1\" class=\"dataframe\">\n",
       "  <thead>\n",
       "    <tr style=\"text-align: right;\">\n",
       "      <th></th>\n",
       "      <th>country</th>\n",
       "      <th>1800</th>\n",
       "      <th>1801</th>\n",
       "      <th>1802</th>\n",
       "      <th>1803</th>\n",
       "      <th>1804</th>\n",
       "      <th>1805</th>\n",
       "      <th>1806</th>\n",
       "      <th>1807</th>\n",
       "      <th>1808</th>\n",
       "      <th>...</th>\n",
       "      <th>2011</th>\n",
       "      <th>2012</th>\n",
       "      <th>2013</th>\n",
       "      <th>2014</th>\n",
       "      <th>2015</th>\n",
       "      <th>2016</th>\n",
       "      <th>2017</th>\n",
       "      <th>2018</th>\n",
       "      <th>2019</th>\n",
       "      <th>growth_rate</th>\n",
       "    </tr>\n",
       "  </thead>\n",
       "  <tbody>\n",
       "    <tr>\n",
       "      <th>147</th>\n",
       "      <td>Venezuela</td>\n",
       "      <td>667.0</td>\n",
       "      <td>667.0</td>\n",
       "      <td>667.0</td>\n",
       "      <td>667.0</td>\n",
       "      <td>667.0</td>\n",
       "      <td>667.0</td>\n",
       "      <td>667.0</td>\n",
       "      <td>667.0</td>\n",
       "      <td>667.0</td>\n",
       "      <td>...</td>\n",
       "      <td>17000</td>\n",
       "      <td>17600</td>\n",
       "      <td>17500</td>\n",
       "      <td>17200.0</td>\n",
       "      <td>16800.0</td>\n",
       "      <td>16700.0</td>\n",
       "      <td>16600.0</td>\n",
       "      <td>16500.0</td>\n",
       "      <td>16400.0</td>\n",
       "      <td>23.6</td>\n",
       "    </tr>\n",
       "    <tr>\n",
       "      <th>148</th>\n",
       "      <td>Vietnam</td>\n",
       "      <td>732.0</td>\n",
       "      <td>732.0</td>\n",
       "      <td>732.0</td>\n",
       "      <td>732.0</td>\n",
       "      <td>732.0</td>\n",
       "      <td>732.0</td>\n",
       "      <td>732.0</td>\n",
       "      <td>732.0</td>\n",
       "      <td>732.0</td>\n",
       "      <td>...</td>\n",
       "      <td>4720</td>\n",
       "      <td>4910</td>\n",
       "      <td>5130</td>\n",
       "      <td>5360.0</td>\n",
       "      <td>5600.0</td>\n",
       "      <td>5870.0</td>\n",
       "      <td>6150.0</td>\n",
       "      <td>6450.0</td>\n",
       "      <td>6770.0</td>\n",
       "      <td>8.2</td>\n",
       "    </tr>\n",
       "    <tr>\n",
       "      <th>149</th>\n",
       "      <td>Yemen</td>\n",
       "      <td>923.0</td>\n",
       "      <td>926.0</td>\n",
       "      <td>928.0</td>\n",
       "      <td>931.0</td>\n",
       "      <td>933.0</td>\n",
       "      <td>936.0</td>\n",
       "      <td>938.0</td>\n",
       "      <td>941.0</td>\n",
       "      <td>943.0</td>\n",
       "      <td>...</td>\n",
       "      <td>3760</td>\n",
       "      <td>3740</td>\n",
       "      <td>3790</td>\n",
       "      <td>3870.0</td>\n",
       "      <td>3920.0</td>\n",
       "      <td>3950.0</td>\n",
       "      <td>3990.0</td>\n",
       "      <td>4040.0</td>\n",
       "      <td>4120.0</td>\n",
       "      <td>3.5</td>\n",
       "    </tr>\n",
       "    <tr>\n",
       "      <th>150</th>\n",
       "      <td>Zambia</td>\n",
       "      <td>698.0</td>\n",
       "      <td>700.0</td>\n",
       "      <td>701.0</td>\n",
       "      <td>703.0</td>\n",
       "      <td>705.0</td>\n",
       "      <td>706.0</td>\n",
       "      <td>708.0</td>\n",
       "      <td>709.0</td>\n",
       "      <td>711.0</td>\n",
       "      <td>...</td>\n",
       "      <td>3560</td>\n",
       "      <td>3700</td>\n",
       "      <td>3790</td>\n",
       "      <td>3940.0</td>\n",
       "      <td>4090.0</td>\n",
       "      <td>4220.0</td>\n",
       "      <td>4360.0</td>\n",
       "      <td>4480.0</td>\n",
       "      <td>4600.0</td>\n",
       "      <td>5.6</td>\n",
       "    </tr>\n",
       "    <tr>\n",
       "      <th>151</th>\n",
       "      <td>Zimbabwe</td>\n",
       "      <td>915.0</td>\n",
       "      <td>916.0</td>\n",
       "      <td>917.0</td>\n",
       "      <td>917.0</td>\n",
       "      <td>918.0</td>\n",
       "      <td>919.0</td>\n",
       "      <td>920.0</td>\n",
       "      <td>921.0</td>\n",
       "      <td>922.0</td>\n",
       "      <td>...</td>\n",
       "      <td>1630</td>\n",
       "      <td>1750</td>\n",
       "      <td>1790</td>\n",
       "      <td>1840.0</td>\n",
       "      <td>1900.0</td>\n",
       "      <td>1970.0</td>\n",
       "      <td>2030.0</td>\n",
       "      <td>2090.0</td>\n",
       "      <td>2150.0</td>\n",
       "      <td>1.3</td>\n",
       "    </tr>\n",
       "  </tbody>\n",
       "</table>\n",
       "<p>5 rows × 222 columns</p>\n",
       "</div>"
      ],
      "text/plain": [
       "       country   1800   1801   1802   1803   1804   1805   1806   1807   1808  \\\n",
       "147  Venezuela  667.0  667.0  667.0  667.0  667.0  667.0  667.0  667.0  667.0   \n",
       "148    Vietnam  732.0  732.0  732.0  732.0  732.0  732.0  732.0  732.0  732.0   \n",
       "149      Yemen  923.0  926.0  928.0  931.0  933.0  936.0  938.0  941.0  943.0   \n",
       "150     Zambia  698.0  700.0  701.0  703.0  705.0  706.0  708.0  709.0  711.0   \n",
       "151   Zimbabwe  915.0  916.0  917.0  917.0  918.0  919.0  920.0  921.0  922.0   \n",
       "\n",
       "     ...   2011   2012   2013     2014     2015     2016     2017     2018  \\\n",
       "147  ...  17000  17600  17500  17200.0  16800.0  16700.0  16600.0  16500.0   \n",
       "148  ...   4720   4910   5130   5360.0   5600.0   5870.0   6150.0   6450.0   \n",
       "149  ...   3760   3740   3790   3870.0   3920.0   3950.0   3990.0   4040.0   \n",
       "150  ...   3560   3700   3790   3940.0   4090.0   4220.0   4360.0   4480.0   \n",
       "151  ...   1630   1750   1790   1840.0   1900.0   1970.0   2030.0   2090.0   \n",
       "\n",
       "        2019  growth_rate  \n",
       "147  16400.0         23.6  \n",
       "148   6770.0          8.2  \n",
       "149   4120.0          3.5  \n",
       "150   4600.0          5.6  \n",
       "151   2150.0          1.3  \n",
       "\n",
       "[5 rows x 222 columns]"
      ]
     },
     "execution_count": 59,
     "metadata": {},
     "output_type": "execute_result"
    }
   ],
   "source": [
    "df_clean['growth_rate'] = (((df_clean['2019'] - df_clean['1800'])/df_clean['1800']).round(1))\n",
    "df_clean.tail()"
   ]
  },
  {
   "cell_type": "markdown",
   "metadata": {},
   "source": [
    "<b>Now let's separate top 5 from the rest, so we can visualize countries whose income per person underwent a rapid growth throughout the years:</b>"
   ]
  },
  {
   "cell_type": "code",
   "execution_count": 60,
   "metadata": {
    "scrolled": true
   },
   "outputs": [
    {
     "name": "stdout",
     "output_type": "stream",
     "text": [
      "<class 'pandas.core.frame.DataFrame'>\n",
      "Int64Index: 5 entries, 109 to 48\n",
      "Columns: 222 entries, country to growth_rate\n",
      "dtypes: float64(27), int64(194), object(1)\n",
      "memory usage: 8.7+ KB\n"
     ]
    },
    {
     "data": {
      "text/html": [
       "<div>\n",
       "<style scoped>\n",
       "    .dataframe tbody tr th:only-of-type {\n",
       "        vertical-align: middle;\n",
       "    }\n",
       "\n",
       "    .dataframe tbody tr th {\n",
       "        vertical-align: top;\n",
       "    }\n",
       "\n",
       "    .dataframe thead th {\n",
       "        text-align: right;\n",
       "    }\n",
       "</style>\n",
       "<table border=\"1\" class=\"dataframe\">\n",
       "  <thead>\n",
       "    <tr style=\"text-align: right;\">\n",
       "      <th></th>\n",
       "      <th>growth_rate</th>\n",
       "    </tr>\n",
       "    <tr>\n",
       "      <th>country</th>\n",
       "      <th></th>\n",
       "    </tr>\n",
       "  </thead>\n",
       "  <tbody>\n",
       "    <tr>\n",
       "      <th>Qatar</th>\n",
       "      <td>117.1</td>\n",
       "    </tr>\n",
       "    <tr>\n",
       "      <th>Kuwait</th>\n",
       "      <td>73.5</td>\n",
       "    </tr>\n",
       "    <tr>\n",
       "      <th>Singapore</th>\n",
       "      <td>67.1</td>\n",
       "    </tr>\n",
       "    <tr>\n",
       "      <th>Saudi Arabia</th>\n",
       "      <td>64.3</td>\n",
       "    </tr>\n",
       "    <tr>\n",
       "      <th>Gabon</th>\n",
       "      <td>59.8</td>\n",
       "    </tr>\n",
       "  </tbody>\n",
       "</table>\n",
       "</div>"
      ],
      "text/plain": [
       "              growth_rate\n",
       "country                  \n",
       "Qatar               117.1\n",
       "Kuwait               73.5\n",
       "Singapore            67.1\n",
       "Saudi Arabia         64.3\n",
       "Gabon                59.8"
      ]
     },
     "execution_count": 60,
     "metadata": {},
     "output_type": "execute_result"
    }
   ],
   "source": [
    "top_5_countries_by_growth_rate = df_clean.nlargest(5, 'growth_rate')\n",
    "top_5_countries_by_growth_rate.info() #make sure there're only 10 rows, but all of the columns\n",
    "top_5_countries_by_growth_rate = top_5_countries_by_growth_rate.loc[:,['country','growth_rate']] #selecting country and growth rate columns only\n",
    "top_5_countries_by_growth_rate.set_index('country',inplace=True) #setting index to Country\n",
    "top_5_countries_by_growth_rate #checking the result"
   ]
  },
  {
   "cell_type": "code",
   "execution_count": 61,
   "metadata": {
    "scrolled": false
   },
   "outputs": [
    {
     "data": {
      "image/png": "[encoded data removed]",
      "text/plain": [
       "<Figure size 1152x288 with 1 Axes>"
      ]
     },
     "metadata": {
      "needs_background": "light"
     },
     "output_type": "display_data"
    }
   ],
   "source": [
    "top_5_countries_by_growth_rate.plot(figsize=(16, 4),style='m-', marker='o', label='Series', title=\"Top 5 Countries with largest Growth Rate of Income per Person according to GapMinder: from 1800 to 2019\");\n",
    "my_xticks = ['Qatar','Kuwait','Singapore','Saudi Arabia','Gabon','Australia','UAE','Equatorial Guinea','New Zealand','Norway']"
   ]
  },
  {
   "cell_type": "markdown",
   "metadata": {},
   "source": [
    "<b>Looks like Qatar beats all records!</b>"
   ]
  },
  {
   "cell_type": "code",
   "execution_count": 62,
   "metadata": {
    "scrolled": false
   },
   "outputs": [
    {
     "data": {
      "text/html": [
       "<div>\n",
       "<style scoped>\n",
       "    .dataframe tbody tr th:only-of-type {\n",
       "        vertical-align: middle;\n",
       "    }\n",
       "\n",
       "    .dataframe tbody tr th {\n",
       "        vertical-align: top;\n",
       "    }\n",
       "\n",
       "    .dataframe thead th {\n",
       "        text-align: right;\n",
       "    }\n",
       "</style>\n",
       "<table border=\"1\" class=\"dataframe\">\n",
       "  <thead>\n",
       "    <tr style=\"text-align: right;\">\n",
       "      <th></th>\n",
       "      <th>country</th>\n",
       "      <th>1800</th>\n",
       "      <th>1801</th>\n",
       "      <th>1802</th>\n",
       "      <th>1803</th>\n",
       "      <th>1804</th>\n",
       "      <th>1805</th>\n",
       "      <th>1806</th>\n",
       "      <th>1807</th>\n",
       "      <th>1808</th>\n",
       "      <th>...</th>\n",
       "      <th>2011</th>\n",
       "      <th>2012</th>\n",
       "      <th>2013</th>\n",
       "      <th>2014</th>\n",
       "      <th>2015</th>\n",
       "      <th>2016</th>\n",
       "      <th>2017</th>\n",
       "      <th>2018</th>\n",
       "      <th>2019</th>\n",
       "      <th>growth_rate</th>\n",
       "    </tr>\n",
       "  </thead>\n",
       "  <tbody>\n",
       "    <tr>\n",
       "      <th>109</th>\n",
       "      <td>Qatar</td>\n",
       "      <td>1160.0</td>\n",
       "      <td>1160.0</td>\n",
       "      <td>1160.0</td>\n",
       "      <td>1170.0</td>\n",
       "      <td>1170.0</td>\n",
       "      <td>1180.0</td>\n",
       "      <td>1180.0</td>\n",
       "      <td>1180.0</td>\n",
       "      <td>1190.0</td>\n",
       "      <td>...</td>\n",
       "      <td>134000</td>\n",
       "      <td>132000</td>\n",
       "      <td>128000</td>\n",
       "      <td>123000.0</td>\n",
       "      <td>122000.0</td>\n",
       "      <td>123000.0</td>\n",
       "      <td>126000.0</td>\n",
       "      <td>131000.0</td>\n",
       "      <td>137000.0</td>\n",
       "      <td>117.1</td>\n",
       "    </tr>\n",
       "  </tbody>\n",
       "</table>\n",
       "<p>1 rows × 222 columns</p>\n",
       "</div>"
      ],
      "text/plain": [
       "    country    1800    1801    1802    1803    1804    1805    1806    1807  \\\n",
       "109   Qatar  1160.0  1160.0  1160.0  1170.0  1170.0  1180.0  1180.0  1180.0   \n",
       "\n",
       "       1808  ...    2011    2012    2013      2014      2015      2016  \\\n",
       "109  1190.0  ...  134000  132000  128000  123000.0  122000.0  123000.0   \n",
       "\n",
       "         2017      2018      2019  growth_rate  \n",
       "109  126000.0  131000.0  137000.0        117.1  \n",
       "\n",
       "[1 rows x 222 columns]"
      ]
     },
     "execution_count": 62,
     "metadata": {},
     "output_type": "execute_result"
    }
   ],
   "source": [
    "df_clean.query('country == \"Qatar\"')"
   ]
  },
  {
   "cell_type": "markdown",
   "metadata": {},
   "source": [
    "### 2. What is the minimum and maximum income per person as of 2019?"
   ]
  },
  {
   "cell_type": "code",
   "execution_count": 63,
   "metadata": {},
   "outputs": [
    {
     "data": {
      "text/plain": [
       "count       152.000000\n",
       "mean      20106.125000\n",
       "std       20541.844207\n",
       "min         885.000000\n",
       "25%        5255.000000\n",
       "50%       13300.000000\n",
       "75%       28300.000000\n",
       "max      137000.000000\n",
       "Name: 2019, dtype: float64"
      ]
     },
     "execution_count": 63,
     "metadata": {},
     "output_type": "execute_result"
    }
   ],
   "source": [
    "df_clean['2019'].describe()"
   ]
  },
  {
   "cell_type": "code",
   "execution_count": 65,
   "metadata": {},
   "outputs": [
    {
     "data": {
      "text/plain": [
       "country\n",
       "Venezuela    16400.0\n",
       "Vietnam       6770.0\n",
       "Yemen         4120.0\n",
       "Zambia        4600.0\n",
       "Zimbabwe      2150.0\n",
       "Name: 2019, dtype: float64"
      ]
     },
     "execution_count": 65,
     "metadata": {},
     "output_type": "execute_result"
    }
   ],
   "source": [
    "df_clean_copy = df_clean.copy()\n",
    "df_clean_copy.set_index('country',inplace=True)\n",
    "df_clean_copy['2019'].tail()"
   ]
  },
  {
   "cell_type": "code",
   "execution_count": null,
   "metadata": {},
   "outputs": [],
   "source": [
    "max_inc = df_clean"
   ]
  },
  {
   "cell_type": "code",
   "execution_count": 67,
   "metadata": {
    "scrolled": true
   },
   "outputs": [
    {
     "data": {
      "image/png": "[encoded data removed]",
      "text/plain": [
       "<Figure size 1152x576 with 1 Axes>"
      ]
     },
     "metadata": {
      "needs_background": "light"
     },
     "output_type": "display_data"
    }
   ],
   "source": [
    "max_inc = df_clean_copy.nlargest(5, '2019')\n",
    "max_inc_2019 = max_inc['2019']\n",
    "min_inc = df_clean_copy.nsmallest(5, '2019')\n",
    "min_inc_2019 = min_inc['2019']\n",
    "pd.concat({'Max Income per Person as of 2019 according to GapMinder': max_inc_2019, 'Min Income per Person as of 2019 according to GapMinder': min_inc_2019}, axis=1).plot.barh(figsize=(16, 8),title=\"Top 5 Countries with Minimum and Maximum Income per Person as of 2019 according to GapMinder\");"
   ]
  },
  {
   "cell_type": "markdown",
   "metadata": {},
   "source": [
    "### 3. Which country has the highest mean income per person?"
   ]
  },
  {
   "cell_type": "code",
   "execution_count": 68,
   "metadata": {},
   "outputs": [
    {
     "name": "stderr",
     "output_type": "stream",
     "text": [
      "<ipython-input-68-1aa33251a09f>:1: SettingWithCopyWarning: \n",
      "A value is trying to be set on a copy of a slice from a DataFrame.\n",
      "Try using .loc[row_indexer,col_indexer] = value instead\n",
      "\n",
      "See the caveats in the documentation: https://pandas.pydata.org/pandas-docs/stable/user_guide/indexing.html#returning-a-view-versus-a-copy\n",
      "  df_clean['mean'] = round(df_clean.iloc[:,0:221].mean(axis=1),1) #selecting all columns except for growth rate\n"
     ]
    },
    {
     "data": {
      "text/plain": [
       "country\n",
       "Qatar                   30279.6\n",
       "Brunei                  27552.6\n",
       "United Arab Emirates    24907.5\n",
       "Kuwait                  21410.0\n",
       "Switzerland             17736.6\n",
       "Name: mean, dtype: float64"
      ]
     },
     "execution_count": 68,
     "metadata": {},
     "output_type": "execute_result"
    }
   ],
   "source": [
    "df_clean['mean'] = round(df_clean.iloc[:,0:221].mean(axis=1),1) #selecting all columns except for growth rate\n",
    "top_5_by_mean = df_clean.nlargest(5, 'mean')\n",
    "top_5_by_mean.set_index('country',inplace=True) \n",
    "top_5_countries_by_mean = top_5_by_mean['mean']\n",
    "top_5_countries_by_mean"
   ]
  },
  {
   "cell_type": "code",
   "execution_count": 69,
   "metadata": {},
   "outputs": [
    {
     "data": {
      "image/png": "[encoded data removed]",
      "text/plain": [
       "<Figure size 432x288 with 1 Axes>"
      ]
     },
     "metadata": {
      "needs_background": "light"
     },
     "output_type": "display_data"
    }
   ],
   "source": [
    "y=np.arange(0,100)\n",
    "top_5_countries_by_mean.plot(kind='bar',color='purple', title='Top 5 Countries by Average Income Per Person');"
   ]
  },
  {
   "cell_type": "markdown",
   "metadata": {},
   "source": [
    "<a id='conclusions'></a>\n",
    "***\n",
    "## Conclusions\n",
    "***\n",
    "We can see that the fastest growing country on the Income per Person arena is Qatar, a country in Middle East, rising from 1.1K USD in 1800s to 137K USD im 2019, which is the maximum value based on our GapMinder data. While Qatar is bathing in riches, we can see that Burundi, a country in east-central Africa, is dealing with the minimum income per person of only 885 USD. \n",
    "\n",
    "It's interesting to see that some countries that have the highest income per person as of 2019 (e.g. Norway or Sinagpore) do not necessarily have the highest mean for the overall 1800-2019 period, where UAE and Switzerland come to shine. And yet, United States is nowhere to be seen..."
   ]
  },
  {
   "cell_type": "markdown",
   "metadata": {},
   "source": [
    "### 4. Why is that USA didn't make it to the top 5 countries based on income per capita?"
   ]
  },
  {
   "cell_type": "code",
   "execution_count": 70,
   "metadata": {},
   "outputs": [
    {
     "data": {
      "text/plain": [
       "143    26.6\n",
       "dtype: float64"
      ]
     },
     "execution_count": 70,
     "metadata": {},
     "output_type": "execute_result"
    }
   ],
   "source": [
    "USA = df_clean.query('country == \"United States\"')\n",
    "USA_min = USA.min(axis=1)\n",
    "USA_min"
   ]
  },
  {
   "cell_type": "code",
   "execution_count": 71,
   "metadata": {},
   "outputs": [
    {
     "data": {
      "text/plain": [
       "143    57700.0\n",
       "dtype: float64"
      ]
     },
     "execution_count": 71,
     "metadata": {},
     "output_type": "execute_result"
    }
   ],
   "source": [
    "USA_max = USA.max(axis=1)\n",
    "USA_max"
   ]
  },
  {
   "cell_type": "code",
   "execution_count": 72,
   "metadata": {},
   "outputs": [
    {
     "data": {
      "text/plain": [
       "143    14749.3\n",
       "dtype: float64"
      ]
     },
     "execution_count": 72,
     "metadata": {},
     "output_type": "execute_result"
    }
   ],
   "source": [
    "USA_mean = round(USA.mean(axis=1),1)\n",
    "USA_mean"
   ]
  },
  {
   "cell_type": "markdown",
   "metadata": {},
   "source": [
    "<b>Well, with a mean of 14,816 and a max of 57,700, there's no wonder USA didn't make it into the top 5. Now we know why!</b>"
   ]
  }
 ],
 "metadata": {
  "kernelspec": {
   "display_name": "Python 3",
   "language": "python",
   "name": "python3"
  },
  "language_info": {
   "codemirror_mode": {
    "name": "ipython",
    "version": 3
   },
   "file_extension": ".py",
   "mimetype": "text/x-python",
   "name": "python",
   "nbconvert_exporter": "python",
   "pygments_lexer": "ipython3",
   "version": "3.8.3"
  }
 },
 "nbformat": 4,
 "nbformat_minor": 2
}
